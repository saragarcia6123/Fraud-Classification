{
 "cells": [
  {
   "cell_type": "code",
   "execution_count": 1,
   "id": "c1976d73-4552-4fbb-ae4c-8af4669e9d31",
   "metadata": {},
   "outputs": [],
   "source": [
    "# Core\n",
    "import pandas as pd\n",
    "import numpy as np\n",
    "import math\n",
    "\n",
    "# Visualization\n",
    "import seaborn as sns\n",
    "import matplotlib.pyplot as plt\n",
    "\n",
    "# Pre-processing\n",
    "from sklearn.model_selection import train_test_split\n",
    "from imblearn.under_sampling import RandomUnderSampler\n",
    "from imblearn.over_sampling import KMeansSMOTE\n",
    "from sklearn.preprocessing import StandardScaler\n",
    "\n",
    "# Models\n",
    "from sklearn.model_selection import GridSearchCV\n",
    "from sklearn.linear_model import LogisticRegression\n",
    "from sklearn.tree import DecisionTreeClassifier\n",
    "from sklearn.ensemble import RandomForestClassifier\n",
    "from sklearn.svm import SVC\n",
    "\n",
    "# Metrics\n",
    "from sklearn.metrics import accuracy_score, recall_score, precision_score, f1_score\n",
    "from sklearn.metrics import roc_auc_score, roc_curve, confusion_matrix, ConfusionMatrixDisplay"
   ]
  },
  {
   "cell_type": "markdown",
   "id": "5be3f424-d1f4-43ae-9749-fe6454ad2b50",
   "metadata": {},
   "source": [
    "### TRAIN"
   ]
  },
  {
   "cell_type": "code",
   "execution_count": 2,
   "id": "a395acbe-4983-4ccb-8cc8-bac987ccecf9",
   "metadata": {},
   "outputs": [],
   "source": [
    "train_df = pd.read_csv('creditcard_fraud_train.csv')"
   ]
  },
  {
   "cell_type": "code",
   "execution_count": 3,
   "id": "1a8d05df-449f-49a2-9971-3c13afd50353",
   "metadata": {},
   "outputs": [],
   "source": [
    "random_state = 42\n",
    "target = 'Class'"
   ]
  },
  {
   "cell_type": "code",
   "execution_count": 4,
   "id": "8e3b07b9-a79b-4d9f-a823-7c06fe75da9d",
   "metadata": {},
   "outputs": [],
   "source": [
    "X = train_df.drop(target, axis=1)\n",
    "y = train_df[target]"
   ]
  },
  {
   "cell_type": "code",
   "execution_count": 5,
   "id": "b304ac09-1458-41a5-b239-ea280e64bac8",
   "metadata": {},
   "outputs": [],
   "source": [
    "X_train, X_test, y_train, y_test = train_test_split(X, y, test_size=0.2, random_state=random_state)"
   ]
  },
  {
   "cell_type": "code",
   "execution_count": 6,
   "id": "39f4b01b-a6ac-42b9-8870-03d3c16fd034",
   "metadata": {
    "collapsed": true,
    "jupyter": {
     "outputs_hidden": true
    },
    "scrolled": true
   },
   "outputs": [
    {
     "data": {
      "text/plain": [
       "<Axes: ylabel='Density'>"
      ]
     },
     "execution_count": 6,
     "metadata": {},
     "output_type": "execute_result"
    },
    {
     "data": {
      "image/png": "[encoded data removed]",
      "text/plain": [
       "<Figure size 640x480 with 1 Axes>"
      ]
     },
     "metadata": {},
     "output_type": "display_data"
    }
   ],
   "source": [
    "y_train.plot(kind='kde')"
   ]
  },
  {
   "cell_type": "code",
   "execution_count": 7,
   "id": "cb73e2ca-9a9f-4706-8d72-8d1914056995",
   "metadata": {},
   "outputs": [
    {
     "data": {
      "text/plain": [
       "Class\n",
       "0    159205\n",
       "1       286\n",
       "Name: count, dtype: int64"
      ]
     },
     "execution_count": 7,
     "metadata": {},
     "output_type": "execute_result"
    }
   ],
   "source": [
    "y_train.value_counts()"
   ]
  },
  {
   "cell_type": "markdown",
   "id": "5f5e7387-a6d8-4929-8235-8c06fa7ba372",
   "metadata": {},
   "source": [
    "There is a very high class imbalance favoring the majority class"
   ]
  },
  {
   "cell_type": "code",
   "execution_count": 8,
   "id": "08619dc3-847c-48da-82db-f6ab0a9faca1",
   "metadata": {},
   "outputs": [],
   "source": [
    "# Undersample the majority\n",
    "\n",
    "undersampler = RandomUnderSampler(random_state=random_state, sampling_strategy={0: 10000})\n",
    "X_train, y_train = undersampler.fit_resample(X_train, y_train)"
   ]
  },
  {
   "cell_type": "code",
   "execution_count": 9,
   "id": "f8a334f4-3fa0-433e-89ca-00db8e28c184",
   "metadata": {},
   "outputs": [],
   "source": [
    "# Oversample the minority\n",
    "\n",
    "smote = KMeansSMOTE(random_state=random_state, sampling_strategy={1: 400})\n",
    "X_train, y_train = smote.fit_resample(X_train, y_train)"
   ]
  },
  {
   "cell_type": "code",
   "execution_count": 10,
   "id": "64234750-3f34-4e1f-8bdc-2f9ea75da97c",
   "metadata": {},
   "outputs": [
    {
     "data": {
      "text/plain": [
       "Class\n",
       "0    10000\n",
       "1      400\n",
       "Name: count, dtype: int64"
      ]
     },
     "execution_count": 10,
     "metadata": {},
     "output_type": "execute_result"
    }
   ],
   "source": [
    "y_train.value_counts()"
   ]
  },
  {
   "cell_type": "markdown",
   "id": "148fdf13-3468-42d5-9368-b56b9e24ff54",
   "metadata": {},
   "source": [
    "#### Removing outliers from the majority class produced worse F1 so let's skip this\n",
    "\n",
    "zscores = (X_train - np.mean(X_train, axis=0)) / np.std(X_train, axis=0)\n",
    "\n",
    "mask = (np.abs(zscores) < 100000).all(axis=1) | (y_train == 1)\n",
    "\n",
    "X_train = X_train[mask]\n",
    "y_train = y_train[mask]"
   ]
  },
  {
   "cell_type": "code",
   "execution_count": 11,
   "id": "a1c41c0a-465f-439e-be7a-fb9d5ba00655",
   "metadata": {},
   "outputs": [],
   "source": [
    "# Scale train and test\n",
    "\n",
    "scaler = StandardScaler()\n",
    "\n",
    "X_train_scaled = scaler.fit_transform(X_train)\n",
    "X_test_scaled = scaler.transform(X_test)"
   ]
  },
  {
   "cell_type": "code",
   "execution_count": 12,
   "id": "9352fe06-da7f-4de7-aa15-bbd7e7a8a7ac",
   "metadata": {},
   "outputs": [],
   "source": [
    "# Define models\n",
    "\n",
    "logistic_regression = LogisticRegression(random_state=random_state)\n",
    "decision_tree = DecisionTreeClassifier(random_state=random_state)\n",
    "random_forest = RandomForestClassifier(random_state=random_state)\n",
    "svc = SVC(random_state=random_state)"
   ]
  },
  {
   "cell_type": "code",
   "execution_count": 13,
   "id": "00edcd13-16cb-490e-8d89-8c96ec2a16f2",
   "metadata": {},
   "outputs": [],
   "source": [
    "def search(model, model_name, params):\n",
    "    \n",
    "    grid_search = GridSearchCV(\n",
    "        estimator=model,\n",
    "        param_grid=params,\n",
    "        n_jobs=-1,\n",
    "        cv=5,\n",
    "        refit=True,\n",
    "        scoring=\"f1\"\n",
    "    )\n",
    "\n",
    "    grid_search.fit(X_train_scaled, y_train)\n",
    "\n",
    "    y_pred = grid_search.predict(X_test_scaled)\n",
    "\n",
    "    results = {\n",
    "        \"Name\": [model_name],\n",
    "        \"Accuracy\": [accuracy_score(y_test, y_pred)],\n",
    "        \"Recall\": [recall_score(y_test, y_pred)],\n",
    "        \"Precision\": [precision_score(y_test, y_pred)],\n",
    "        \"F1\": [f1_score(y_test, y_pred)],\n",
    "        \"ROC-AUC\": [roc_auc_score(y_test, y_pred)]\n",
    "    }\n",
    "\n",
    "    conf_matrix = confusion_matrix(y_test, y_pred)\n",
    "\n",
    "    return results, conf_matrix, grid_search.best_params_"
   ]
  },
  {
   "cell_type": "code",
   "execution_count": 14,
   "id": "f60a48f5-f063-4704-a3e0-cb3ac45da4be",
   "metadata": {},
   "outputs": [],
   "source": [
    "log_results, log_conf_matrix, log_best_params = search(\n",
    "    model=logistic_regression,\n",
    "    model_name=\"Logistic Regression\",\n",
    "    params={\n",
    "        'C': [0.01, 0.05, 0.1, 1, 10, 100],\n",
    "        'solver': ['newton-cg', 'lbfgs', 'liblinear'],\n",
    "        'max_iter': [50, 100, 200, 300, 400]\n",
    "    }\n",
    ")"
   ]
  },
  {
   "cell_type": "code",
   "execution_count": 15,
   "id": "383e3e52-c228-4c68-8a61-445c114cd253",
   "metadata": {},
   "outputs": [
    {
     "data": {
      "text/plain": [
       "{'C': 100, 'max_iter': 50, 'solver': 'newton-cg'}"
      ]
     },
     "execution_count": 15,
     "metadata": {},
     "output_type": "execute_result"
    }
   ],
   "source": [
    "log_best_params"
   ]
  },
  {
   "cell_type": "code",
   "execution_count": 16,
   "id": "e24a7790-c360-4add-b690-f0b5abea6448",
   "metadata": {},
   "outputs": [
    {
     "data": {
      "text/plain": [
       "{'Name': ['Logistic Regression'],\n",
       " 'Accuracy': [0.9988964963759938],\n",
       " 'Recall': [np.float64(0.8620689655172413)],\n",
       " 'Precision': [np.float64(0.5813953488372093)],\n",
       " 'F1': [np.float64(0.6944444444444444)],\n",
       " 'ROC-AUC': [np.float64(0.9305823918381133)]}"
      ]
     },
     "execution_count": 16,
     "metadata": {},
     "output_type": "execute_result"
    }
   ],
   "source": [
    "log_results"
   ]
  },
  {
   "cell_type": "code",
   "execution_count": 18,
   "id": "dfa3d919-77a6-4d57-8baa-ab6dff0d89c3",
   "metadata": {
    "scrolled": true
   },
   "outputs": [
    {
     "data": {
      "text/plain": [
       "array([[39779,    36],\n",
       "       [    8,    50]])"
      ]
     },
     "execution_count": 18,
     "metadata": {},
     "output_type": "execute_result"
    }
   ],
   "source": [
    "log_conf_matrix"
   ]
  },
  {
   "cell_type": "code",
   "execution_count": 19,
   "id": "951eb003-ef9e-4f7e-8e77-8d04956b8a90",
   "metadata": {},
   "outputs": [],
   "source": [
    "dt_results, dt_matrix, dt_best_params = search(\n",
    "    model=decision_tree,\n",
    "    model_name=\"Decision Tree\",\n",
    "    params={\n",
    "        'max_depth': [5, 10, 20, None],\n",
    "        'min_samples_split': [2, 5, 10],\n",
    "        'min_samples_leaf': [2, 5, 10]\n",
    "    }\n",
    ")"
   ]
  },
  {
   "cell_type": "code",
   "execution_count": 20,
   "id": "4b8746d4-dedd-4c29-8af2-224bcb1af3ac",
   "metadata": {},
   "outputs": [
    {
     "data": {
      "text/plain": [
       "{'Name': ['Decision Tree'],\n",
       " 'Accuracy': [0.9979685501467158],\n",
       " 'Recall': [np.float64(0.9137931034482759)],\n",
       " 'Precision': [np.float64(0.4108527131782946)],\n",
       " 'F1': [np.float64(0.5668449197860963)],\n",
       " 'ROC-AUC': [np.float64(0.9559421375586223)]}"
      ]
     },
     "execution_count": 20,
     "metadata": {},
     "output_type": "execute_result"
    }
   ],
   "source": [
    "dt_results"
   ]
  },
  {
   "cell_type": "code",
   "execution_count": 21,
   "id": "1f9a604e-5f17-46a4-bab8-1793459af420",
   "metadata": {},
   "outputs": [
    {
     "data": {
      "text/plain": [
       "{'max_depth': 5, 'min_samples_leaf': 2, 'min_samples_split': 2}"
      ]
     },
     "execution_count": 21,
     "metadata": {},
     "output_type": "execute_result"
    }
   ],
   "source": [
    "dt_best_params"
   ]
  },
  {
   "cell_type": "code",
   "execution_count": 22,
   "id": "663b3a88-6c19-441c-9abe-f45637d75746",
   "metadata": {
    "scrolled": true
   },
   "outputs": [
    {
     "data": {
      "text/plain": [
       "array([[39739,    76],\n",
       "       [    5,    53]])"
      ]
     },
     "execution_count": 22,
     "metadata": {},
     "output_type": "execute_result"
    }
   ],
   "source": [
    "dt_matrix"
   ]
  },
  {
   "cell_type": "code",
   "execution_count": 45,
   "id": "5916b9e9-4737-45eb-8152-662ed15585d4",
   "metadata": {
    "scrolled": true
   },
   "outputs": [
    {
     "name": "stderr",
     "output_type": "stream",
     "text": [
      "/home/human/.local/lib/python3.13/site-packages/numpy/ma/core.py:2881: RuntimeWarning: invalid value encountered in cast\n",
      "  _data = np.array(data, dtype=dtype, copy=copy,\n"
     ]
    }
   ],
   "source": [
    "rf_results, rf_matrix, rf_best_params = search(\n",
    "    model=random_forest,\n",
    "    model_name=\"Random Forest\",\n",
    "    params={\n",
    "         'bootstrap': [True, False],\n",
    "         'max_depth': [2, 5, 10, 20],\n",
    "         'min_samples_leaf': [2, 5, 10],\n",
    "         'min_samples_split': [2, 5, 10],\n",
    "         'n_estimators': [100, 200]\n",
    "    }\n",
    ")"
   ]
  },
  {
   "cell_type": "code",
   "execution_count": 46,
   "id": "e15d1d2d-4867-4c65-b935-bb9d3303f961",
   "metadata": {},
   "outputs": [
    {
     "data": {
      "text/plain": [
       "{'Name': ['Random Forest'],\n",
       " 'Accuracy': [0.9993980889323603],\n",
       " 'Recall': [np.float64(0.8793103448275862)],\n",
       " 'Precision': [np.float64(0.75)],\n",
       " 'F1': [np.float64(0.8095238095238095)],\n",
       " 'ROC-AUC': [np.float64(0.9394416850346647)]}"
      ]
     },
     "execution_count": 46,
     "metadata": {},
     "output_type": "execute_result"
    }
   ],
   "source": [
    "rf_results"
   ]
  },
  {
   "cell_type": "code",
   "execution_count": 47,
   "id": "c5a0d596-3e3d-4733-88f1-deab677a8738",
   "metadata": {},
   "outputs": [
    {
     "data": {
      "text/plain": [
       "{'bootstrap': False,\n",
       " 'max_depth': 10,\n",
       " 'min_samples_leaf': 10,\n",
       " 'min_samples_split': 2,\n",
       " 'n_estimators': 100}"
      ]
     },
     "execution_count": 47,
     "metadata": {},
     "output_type": "execute_result"
    }
   ],
   "source": [
    "rf_best_params"
   ]
  },
  {
   "cell_type": "code",
   "execution_count": 48,
   "id": "f1bb88c3-9012-42e2-9b7d-bcc041501edb",
   "metadata": {},
   "outputs": [
    {
     "data": {
      "text/plain": [
       "array([[39798,    17],\n",
       "       [    7,    51]])"
      ]
     },
     "execution_count": 48,
     "metadata": {},
     "output_type": "execute_result"
    }
   ],
   "source": [
    "rf_matrix"
   ]
  },
  {
   "cell_type": "markdown",
   "id": "6f0a7e64-1b0a-4931-a6cc-d37fedc2e696",
   "metadata": {},
   "source": [
    "### Let's use Random Forest!"
   ]
  },
  {
   "cell_type": "code",
   "execution_count": 52,
   "id": "4849d50c-fe90-4662-9c75-8bb1916a32a5",
   "metadata": {},
   "outputs": [
    {
     "data": {
      "text/html": [
       "<style>#sk-container-id-3 {\n",
       "  /* Definition of color scheme common for light and dark mode */\n",
       "  --sklearn-color-text: black;\n",
       "  --sklearn-color-line: gray;\n",
       "  /* Definition of color scheme for unfitted estimators */\n",
       "  --sklearn-color-unfitted-level-0: #fff5e6;\n",
       "  --sklearn-color-unfitted-level-1: #f6e4d2;\n",
       "  --sklearn-color-unfitted-level-2: #ffe0b3;\n",
       "  --sklearn-color-unfitted-level-3: chocolate;\n",
       "  /* Definition of color scheme for fitted estimators */\n",
       "  --sklearn-color-fitted-level-0: #f0f8ff;\n",
       "  --sklearn-color-fitted-level-1: #d4ebff;\n",
       "  --sklearn-color-fitted-level-2: #b3dbfd;\n",
       "  --sklearn-color-fitted-level-3: cornflowerblue;\n",
       "\n",
       "  /* Specific color for light theme */\n",
       "  --sklearn-color-text-on-default-background: var(--sg-text-color, var(--theme-code-foreground, var(--jp-content-font-color1, black)));\n",
       "  --sklearn-color-background: var(--sg-background-color, var(--theme-background, var(--jp-layout-color0, white)));\n",
       "  --sklearn-color-border-box: var(--sg-text-color, var(--theme-code-foreground, var(--jp-content-font-color1, black)));\n",
       "  --sklearn-color-icon: #696969;\n",
       "\n",
       "  @media (prefers-color-scheme: dark) {\n",
       "    /* Redefinition of color scheme for dark theme */\n",
       "    --sklearn-color-text-on-default-background: var(--sg-text-color, var(--theme-code-foreground, var(--jp-content-font-color1, white)));\n",
       "    --sklearn-color-background: var(--sg-background-color, var(--theme-background, var(--jp-layout-color0, #111)));\n",
       "    --sklearn-color-border-box: var(--sg-text-color, var(--theme-code-foreground, var(--jp-content-font-color1, white)));\n",
       "    --sklearn-color-icon: #878787;\n",
       "  }\n",
       "}\n",
       "\n",
       "#sk-container-id-3 {\n",
       "  color: var(--sklearn-color-text);\n",
       "}\n",
       "\n",
       "#sk-container-id-3 pre {\n",
       "  padding: 0;\n",
       "}\n",
       "\n",
       "#sk-container-id-3 input.sk-hidden--visually {\n",
       "  border: 0;\n",
       "  clip: rect(1px 1px 1px 1px);\n",
       "  clip: rect(1px, 1px, 1px, 1px);\n",
       "  height: 1px;\n",
       "  margin: -1px;\n",
       "  overflow: hidden;\n",
       "  padding: 0;\n",
       "  position: absolute;\n",
       "  width: 1px;\n",
       "}\n",
       "\n",
       "#sk-container-id-3 div.sk-dashed-wrapped {\n",
       "  border: 1px dashed var(--sklearn-color-line);\n",
       "  margin: 0 0.4em 0.5em 0.4em;\n",
       "  box-sizing: border-box;\n",
       "  padding-bottom: 0.4em;\n",
       "  background-color: var(--sklearn-color-background);\n",
       "}\n",
       "\n",
       "#sk-container-id-3 div.sk-container {\n",
       "  /* jupyter's `normalize.less` sets `[hidden] { display: none; }`\n",
       "     but bootstrap.min.css set `[hidden] { display: none !important; }`\n",
       "     so we also need the `!important` here to be able to override the\n",
       "     default hidden behavior on the sphinx rendered scikit-learn.org.\n",
       "     See: https://github.com/scikit-learn/scikit-learn/issues/21755 */\n",
       "  display: inline-block !important;\n",
       "  position: relative;\n",
       "}\n",
       "\n",
       "#sk-container-id-3 div.sk-text-repr-fallback {\n",
       "  display: none;\n",
       "}\n",
       "\n",
       "div.sk-parallel-item,\n",
       "div.sk-serial,\n",
       "div.sk-item {\n",
       "  /* draw centered vertical line to link estimators */\n",
       "  background-image: linear-gradient(var(--sklearn-color-text-on-default-background), var(--sklearn-color-text-on-default-background));\n",
       "  background-size: 2px 100%;\n",
       "  background-repeat: no-repeat;\n",
       "  background-position: center center;\n",
       "}\n",
       "\n",
       "/* Parallel-specific style estimator block */\n",
       "\n",
       "#sk-container-id-3 div.sk-parallel-item::after {\n",
       "  content: \"\";\n",
       "  width: 100%;\n",
       "  border-bottom: 2px solid var(--sklearn-color-text-on-default-background);\n",
       "  flex-grow: 1;\n",
       "}\n",
       "\n",
       "#sk-container-id-3 div.sk-parallel {\n",
       "  display: flex;\n",
       "  align-items: stretch;\n",
       "  justify-content: center;\n",
       "  background-color: var(--sklearn-color-background);\n",
       "  position: relative;\n",
       "}\n",
       "\n",
       "#sk-container-id-3 div.sk-parallel-item {\n",
       "  display: flex;\n",
       "  flex-direction: column;\n",
       "}\n",
       "\n",
       "#sk-container-id-3 div.sk-parallel-item:first-child::after {\n",
       "  align-self: flex-end;\n",
       "  width: 50%;\n",
       "}\n",
       "\n",
       "#sk-container-id-3 div.sk-parallel-item:last-child::after {\n",
       "  align-self: flex-start;\n",
       "  width: 50%;\n",
       "}\n",
       "\n",
       "#sk-container-id-3 div.sk-parallel-item:only-child::after {\n",
       "  width: 0;\n",
       "}\n",
       "\n",
       "/* Serial-specific style estimator block */\n",
       "\n",
       "#sk-container-id-3 div.sk-serial {\n",
       "  display: flex;\n",
       "  flex-direction: column;\n",
       "  align-items: center;\n",
       "  background-color: var(--sklearn-color-background);\n",
       "  padding-right: 1em;\n",
       "  padding-left: 1em;\n",
       "}\n",
       "\n",
       "\n",
       "/* Toggleable style: style used for estimator/Pipeline/ColumnTransformer box that is\n",
       "clickable and can be expanded/collapsed.\n",
       "- Pipeline and ColumnTransformer use this feature and define the default style\n",
       "- Estimators will overwrite some part of the style using the `sk-estimator` class\n",
       "*/\n",
       "\n",
       "/* Pipeline and ColumnTransformer style (default) */\n",
       "\n",
       "#sk-container-id-3 div.sk-toggleable {\n",
       "  /* Default theme specific background. It is overwritten whether we have a\n",
       "  specific estimator or a Pipeline/ColumnTransformer */\n",
       "  background-color: var(--sklearn-color-background);\n",
       "}\n",
       "\n",
       "/* Toggleable label */\n",
       "#sk-container-id-3 label.sk-toggleable__label {\n",
       "  cursor: pointer;\n",
       "  display: block;\n",
       "  width: 100%;\n",
       "  margin-bottom: 0;\n",
       "  padding: 0.5em;\n",
       "  box-sizing: border-box;\n",
       "  text-align: center;\n",
       "}\n",
       "\n",
       "#sk-container-id-3 label.sk-toggleable__label-arrow:before {\n",
       "  /* Arrow on the left of the label */\n",
       "  content: \"▸\";\n",
       "  float: left;\n",
       "  margin-right: 0.25em;\n",
       "  color: var(--sklearn-color-icon);\n",
       "}\n",
       "\n",
       "#sk-container-id-3 label.sk-toggleable__label-arrow:hover:before {\n",
       "  color: var(--sklearn-color-text);\n",
       "}\n",
       "\n",
       "/* Toggleable content - dropdown */\n",
       "\n",
       "#sk-container-id-3 div.sk-toggleable__content {\n",
       "  max-height: 0;\n",
       "  max-width: 0;\n",
       "  overflow: hidden;\n",
       "  text-align: left;\n",
       "  /* unfitted */\n",
       "  background-color: var(--sklearn-color-unfitted-level-0);\n",
       "}\n",
       "\n",
       "#sk-container-id-3 div.sk-toggleable__content.fitted {\n",
       "  /* fitted */\n",
       "  background-color: var(--sklearn-color-fitted-level-0);\n",
       "}\n",
       "\n",
       "#sk-container-id-3 div.sk-toggleable__content pre {\n",
       "  margin: 0.2em;\n",
       "  border-radius: 0.25em;\n",
       "  color: var(--sklearn-color-text);\n",
       "  /* unfitted */\n",
       "  background-color: var(--sklearn-color-unfitted-level-0);\n",
       "}\n",
       "\n",
       "#sk-container-id-3 div.sk-toggleable__content.fitted pre {\n",
       "  /* unfitted */\n",
       "  background-color: var(--sklearn-color-fitted-level-0);\n",
       "}\n",
       "\n",
       "#sk-container-id-3 input.sk-toggleable__control:checked~div.sk-toggleable__content {\n",
       "  /* Expand drop-down */\n",
       "  max-height: 200px;\n",
       "  max-width: 100%;\n",
       "  overflow: auto;\n",
       "}\n",
       "\n",
       "#sk-container-id-3 input.sk-toggleable__control:checked~label.sk-toggleable__label-arrow:before {\n",
       "  content: \"▾\";\n",
       "}\n",
       "\n",
       "/* Pipeline/ColumnTransformer-specific style */\n",
       "\n",
       "#sk-container-id-3 div.sk-label input.sk-toggleable__control:checked~label.sk-toggleable__label {\n",
       "  color: var(--sklearn-color-text);\n",
       "  background-color: var(--sklearn-color-unfitted-level-2);\n",
       "}\n",
       "\n",
       "#sk-container-id-3 div.sk-label.fitted input.sk-toggleable__control:checked~label.sk-toggleable__label {\n",
       "  background-color: var(--sklearn-color-fitted-level-2);\n",
       "}\n",
       "\n",
       "/* Estimator-specific style */\n",
       "\n",
       "/* Colorize estimator box */\n",
       "#sk-container-id-3 div.sk-estimator input.sk-toggleable__control:checked~label.sk-toggleable__label {\n",
       "  /* unfitted */\n",
       "  background-color: var(--sklearn-color-unfitted-level-2);\n",
       "}\n",
       "\n",
       "#sk-container-id-3 div.sk-estimator.fitted input.sk-toggleable__control:checked~label.sk-toggleable__label {\n",
       "  /* fitted */\n",
       "  background-color: var(--sklearn-color-fitted-level-2);\n",
       "}\n",
       "\n",
       "#sk-container-id-3 div.sk-label label.sk-toggleable__label,\n",
       "#sk-container-id-3 div.sk-label label {\n",
       "  /* The background is the default theme color */\n",
       "  color: var(--sklearn-color-text-on-default-background);\n",
       "}\n",
       "\n",
       "/* On hover, darken the color of the background */\n",
       "#sk-container-id-3 div.sk-label:hover label.sk-toggleable__label {\n",
       "  color: var(--sklearn-color-text);\n",
       "  background-color: var(--sklearn-color-unfitted-level-2);\n",
       "}\n",
       "\n",
       "/* Label box, darken color on hover, fitted */\n",
       "#sk-container-id-3 div.sk-label.fitted:hover label.sk-toggleable__label.fitted {\n",
       "  color: var(--sklearn-color-text);\n",
       "  background-color: var(--sklearn-color-fitted-level-2);\n",
       "}\n",
       "\n",
       "/* Estimator label */\n",
       "\n",
       "#sk-container-id-3 div.sk-label label {\n",
       "  font-family: monospace;\n",
       "  font-weight: bold;\n",
       "  display: inline-block;\n",
       "  line-height: 1.2em;\n",
       "}\n",
       "\n",
       "#sk-container-id-3 div.sk-label-container {\n",
       "  text-align: center;\n",
       "}\n",
       "\n",
       "/* Estimator-specific */\n",
       "#sk-container-id-3 div.sk-estimator {\n",
       "  font-family: monospace;\n",
       "  border: 1px dotted var(--sklearn-color-border-box);\n",
       "  border-radius: 0.25em;\n",
       "  box-sizing: border-box;\n",
       "  margin-bottom: 0.5em;\n",
       "  /* unfitted */\n",
       "  background-color: var(--sklearn-color-unfitted-level-0);\n",
       "}\n",
       "\n",
       "#sk-container-id-3 div.sk-estimator.fitted {\n",
       "  /* fitted */\n",
       "  background-color: var(--sklearn-color-fitted-level-0);\n",
       "}\n",
       "\n",
       "/* on hover */\n",
       "#sk-container-id-3 div.sk-estimator:hover {\n",
       "  /* unfitted */\n",
       "  background-color: var(--sklearn-color-unfitted-level-2);\n",
       "}\n",
       "\n",
       "#sk-container-id-3 div.sk-estimator.fitted:hover {\n",
       "  /* fitted */\n",
       "  background-color: var(--sklearn-color-fitted-level-2);\n",
       "}\n",
       "\n",
       "/* Specification for estimator info (e.g. \"i\" and \"?\") */\n",
       "\n",
       "/* Common style for \"i\" and \"?\" */\n",
       "\n",
       ".sk-estimator-doc-link,\n",
       "a:link.sk-estimator-doc-link,\n",
       "a:visited.sk-estimator-doc-link {\n",
       "  float: right;\n",
       "  font-size: smaller;\n",
       "  line-height: 1em;\n",
       "  font-family: monospace;\n",
       "  background-color: var(--sklearn-color-background);\n",
       "  border-radius: 1em;\n",
       "  height: 1em;\n",
       "  width: 1em;\n",
       "  text-decoration: none !important;\n",
       "  margin-left: 1ex;\n",
       "  /* unfitted */\n",
       "  border: var(--sklearn-color-unfitted-level-1) 1pt solid;\n",
       "  color: var(--sklearn-color-unfitted-level-1);\n",
       "}\n",
       "\n",
       ".sk-estimator-doc-link.fitted,\n",
       "a:link.sk-estimator-doc-link.fitted,\n",
       "a:visited.sk-estimator-doc-link.fitted {\n",
       "  /* fitted */\n",
       "  border: var(--sklearn-color-fitted-level-1) 1pt solid;\n",
       "  color: var(--sklearn-color-fitted-level-1);\n",
       "}\n",
       "\n",
       "/* On hover */\n",
       "div.sk-estimator:hover .sk-estimator-doc-link:hover,\n",
       ".sk-estimator-doc-link:hover,\n",
       "div.sk-label-container:hover .sk-estimator-doc-link:hover,\n",
       ".sk-estimator-doc-link:hover {\n",
       "  /* unfitted */\n",
       "  background-color: var(--sklearn-color-unfitted-level-3);\n",
       "  color: var(--sklearn-color-background);\n",
       "  text-decoration: none;\n",
       "}\n",
       "\n",
       "div.sk-estimator.fitted:hover .sk-estimator-doc-link.fitted:hover,\n",
       ".sk-estimator-doc-link.fitted:hover,\n",
       "div.sk-label-container:hover .sk-estimator-doc-link.fitted:hover,\n",
       ".sk-estimator-doc-link.fitted:hover {\n",
       "  /* fitted */\n",
       "  background-color: var(--sklearn-color-fitted-level-3);\n",
       "  color: var(--sklearn-color-background);\n",
       "  text-decoration: none;\n",
       "}\n",
       "\n",
       "/* Span, style for the box shown on hovering the info icon */\n",
       ".sk-estimator-doc-link span {\n",
       "  display: none;\n",
       "  z-index: 9999;\n",
       "  position: relative;\n",
       "  font-weight: normal;\n",
       "  right: .2ex;\n",
       "  padding: .5ex;\n",
       "  margin: .5ex;\n",
       "  width: min-content;\n",
       "  min-width: 20ex;\n",
       "  max-width: 50ex;\n",
       "  color: var(--sklearn-color-text);\n",
       "  box-shadow: 2pt 2pt 4pt #999;\n",
       "  /* unfitted */\n",
       "  background: var(--sklearn-color-unfitted-level-0);\n",
       "  border: .5pt solid var(--sklearn-color-unfitted-level-3);\n",
       "}\n",
       "\n",
       ".sk-estimator-doc-link.fitted span {\n",
       "  /* fitted */\n",
       "  background: var(--sklearn-color-fitted-level-0);\n",
       "  border: var(--sklearn-color-fitted-level-3);\n",
       "}\n",
       "\n",
       ".sk-estimator-doc-link:hover span {\n",
       "  display: block;\n",
       "}\n",
       "\n",
       "/* \"?\"-specific style due to the `<a>` HTML tag */\n",
       "\n",
       "#sk-container-id-3 a.estimator_doc_link {\n",
       "  float: right;\n",
       "  font-size: 1rem;\n",
       "  line-height: 1em;\n",
       "  font-family: monospace;\n",
       "  background-color: var(--sklearn-color-background);\n",
       "  border-radius: 1rem;\n",
       "  height: 1rem;\n",
       "  width: 1rem;\n",
       "  text-decoration: none;\n",
       "  /* unfitted */\n",
       "  color: var(--sklearn-color-unfitted-level-1);\n",
       "  border: var(--sklearn-color-unfitted-level-1) 1pt solid;\n",
       "}\n",
       "\n",
       "#sk-container-id-3 a.estimator_doc_link.fitted {\n",
       "  /* fitted */\n",
       "  border: var(--sklearn-color-fitted-level-1) 1pt solid;\n",
       "  color: var(--sklearn-color-fitted-level-1);\n",
       "}\n",
       "\n",
       "/* On hover */\n",
       "#sk-container-id-3 a.estimator_doc_link:hover {\n",
       "  /* unfitted */\n",
       "  background-color: var(--sklearn-color-unfitted-level-3);\n",
       "  color: var(--sklearn-color-background);\n",
       "  text-decoration: none;\n",
       "}\n",
       "\n",
       "#sk-container-id-3 a.estimator_doc_link.fitted:hover {\n",
       "  /* fitted */\n",
       "  background-color: var(--sklearn-color-fitted-level-3);\n",
       "}\n",
       "</style><div id=\"sk-container-id-3\" class=\"sk-top-container\"><div class=\"sk-text-repr-fallback\"><pre>RandomForestClassifier(bootstrap=False, max_depth=10, min_samples_leaf=10)</pre><b>In a Jupyter environment, please rerun this cell to show the HTML representation or trust the notebook. <br />On GitHub, the HTML representation is unable to render, please try loading this page with nbviewer.org.</b></div><div class=\"sk-container\" hidden><div class=\"sk-item\"><div class=\"sk-estimator  sk-toggleable\"><input class=\"sk-toggleable__control sk-hidden--visually\" id=\"sk-estimator-id-3\" type=\"checkbox\" checked><label for=\"sk-estimator-id-3\" class=\"sk-toggleable__label  sk-toggleable__label-arrow \">&nbsp;&nbsp;RandomForestClassifier<a class=\"sk-estimator-doc-link \" rel=\"noreferrer\" target=\"_blank\" href=\"https://scikit-learn.org/1.5/modules/generated/sklearn.ensemble.RandomForestClassifier.html\">?<span>Documentation for RandomForestClassifier</span></a><span class=\"sk-estimator-doc-link \">i<span>Not fitted</span></span></label><div class=\"sk-toggleable__content \"><pre>RandomForestClassifier(bootstrap=False, max_depth=10, min_samples_leaf=10)</pre></div> </div></div></div></div>"
      ],
      "text/plain": [
       "RandomForestClassifier(bootstrap=False, max_depth=10, min_samples_leaf=10)"
      ]
     },
     "execution_count": 52,
     "metadata": {},
     "output_type": "execute_result"
    }
   ],
   "source": [
    "random_forest_best_model = RandomForestClassifier()\n",
    "random_forest_best_model.set_params(**rf_best_params)"
   ]
  },
  {
   "cell_type": "code",
   "execution_count": 53,
   "id": "cd40ab9f-fd77-4d9b-9ab5-2477766b018e",
   "metadata": {},
   "outputs": [],
   "source": [
    "random_forest_best_model.fit(X_train_scaled, y_train)\n",
    "y_pred = random_forest_best_model.predict_proba(X_test_scaled)"
   ]
  },
  {
   "cell_type": "code",
   "execution_count": 54,
   "id": "2178ba95-21e7-466e-98b4-a4f37d79b1f2",
   "metadata": {},
   "outputs": [],
   "source": [
    "results = {\n",
    "    \"Threshold\": [],\n",
    "    \"Accuracy\": [],\n",
    "    \"Recall\": [],\n",
    "    \"Precision\": [],\n",
    "    \"F1\": [],\n",
    "    \"ROC-AUC\": []\n",
    "}\n",
    "\n",
    "for thresh in np.arange(0.001, 1, 0.001):\n",
    "    \n",
    "    y_pred_thresh = y_pred[:,1] >= thresh\n",
    "    \n",
    "    results['Threshold'].append(thresh)\n",
    "    results['Accuracy'].append(accuracy_score(y_test, y_pred_thresh))\n",
    "    results['Recall'].append(recall_score(y_test, y_pred_thresh))\n",
    "    results['Precision'].append(precision_score(y_test, y_pred_thresh))\n",
    "    results['F1'].append(f1_score(y_test, y_pred_thresh))\n",
    "    results['ROC-AUC'].append(roc_auc_score(y_test, y_pred_thresh))"
   ]
  },
  {
   "cell_type": "code",
   "execution_count": 55,
   "id": "b9c6154c-69fa-4082-8218-6c27753247f0",
   "metadata": {},
   "outputs": [
    {
     "data": {
      "text/plain": [
       "np.float64(0.8376068376068376)"
      ]
     },
     "execution_count": 55,
     "metadata": {},
     "output_type": "execute_result"
    }
   ],
   "source": [
    "max_f1 = np.max(results['F1'])\n",
    "max_f1"
   ]
  },
  {
   "cell_type": "code",
   "execution_count": 56,
   "id": "4a04cde3-8883-409e-911e-9de3a032d2fa",
   "metadata": {},
   "outputs": [
    {
     "data": {
      "text/plain": [
       "576"
      ]
     },
     "execution_count": 56,
     "metadata": {},
     "output_type": "execute_result"
    }
   ],
   "source": [
    "max_f1_index = results['F1'].index(max_f1)\n",
    "max_f1_index"
   ]
  },
  {
   "cell_type": "code",
   "execution_count": 57,
   "id": "e0256718-51f5-4157-8b8b-696ec5947ba5",
   "metadata": {},
   "outputs": [],
   "source": [
    "results_df = pd.DataFrame(results, index=np.arange(1, 1000, 1))"
   ]
  },
  {
   "cell_type": "code",
   "execution_count": 58,
   "id": "a0dc79c8-0b35-417d-bb3e-0e910b57b8c1",
   "metadata": {},
   "outputs": [
    {
     "data": {
      "text/plain": [
       "Threshold    0.577000\n",
       "Accuracy     0.999523\n",
       "Recall       0.844828\n",
       "Precision    0.830508\n",
       "F1           0.837607\n",
       "ROC-AUC      0.922288\n",
       "Name: 577, dtype: float64"
      ]
     },
     "execution_count": 58,
     "metadata": {},
     "output_type": "execute_result"
    }
   ],
   "source": [
    "best_results = results_df.iloc[max_f1_index]\n",
    "best_results"
   ]
  },
  {
   "cell_type": "code",
   "execution_count": 59,
   "id": "8b928344-4d4c-4e1d-9183-4f38f80264cb",
   "metadata": {},
   "outputs": [
    {
     "data": {
      "text/plain": [
       "np.float64(0.5770000000000001)"
      ]
     },
     "execution_count": 59,
     "metadata": {},
     "output_type": "execute_result"
    }
   ],
   "source": [
    "best_thresh = best_results['Threshold']\n",
    "best_thresh"
   ]
  },
  {
   "cell_type": "code",
   "execution_count": 60,
   "id": "8d7c6981-a163-4c1e-a46d-00f6859efee2",
   "metadata": {},
   "outputs": [],
   "source": [
    "best_y_pred = y_pred[:,1] >= best_thresh"
   ]
  },
  {
   "cell_type": "code",
   "execution_count": 61,
   "id": "091fa966-ddc3-47c8-9019-37318443a942",
   "metadata": {},
   "outputs": [
    {
     "data": {
      "text/plain": [
       "array([[39805,    10],\n",
       "       [    9,    49]])"
      ]
     },
     "execution_count": 61,
     "metadata": {},
     "output_type": "execute_result"
    }
   ],
   "source": [
    "best_cm = confusion_matrix(y_test, best_y_pred)\n",
    "best_cm"
   ]
  },
  {
   "cell_type": "code",
   "execution_count": 62,
   "id": "3bc833f9-03ee-4c82-934b-860be9c5e9ac",
   "metadata": {},
   "outputs": [
    {
     "data": {
      "image/png": "[encoded data removed]",
      "text/plain": [
       "<Figure size 640x480 with 1 Axes>"
      ]
     },
     "metadata": {},
     "output_type": "display_data"
    }
   ],
   "source": [
    "for col in results_df.columns[1:]:\n",
    "    plt.plot(np.arange(0.001, 1, 0.001), results_df[col], data=results_df)\n",
    "    max = np.max(results_df[col])\n",
    "    index = results[col].index(max)\n",
    "    plt.scatter(index/1000, max)\n",
    "plt.legend()\n",
    "plt.xlabel(\"Threshold\")\n",
    "plt.ylabel(\"Score\")\n",
    "plt.grid()"
   ]
  },
  {
   "cell_type": "markdown",
   "id": "41213fb1-a07f-4b9c-b75d-a53f68b45e7f",
   "metadata": {},
   "source": [
    "### TEST"
   ]
  },
  {
   "cell_type": "code",
   "execution_count": 63,
   "id": "9ee8e658-6666-45d2-a8d0-b51754bb1293",
   "metadata": {},
   "outputs": [],
   "source": [
    "test_df = pd.read_csv('creditcard_fraud_test.csv')"
   ]
  },
  {
   "cell_type": "code",
   "execution_count": 64,
   "id": "e0503048-4f71-4636-85c7-fbb2049253e8",
   "metadata": {},
   "outputs": [],
   "source": [
    "X = test_df.drop(target, axis=1)\n",
    "y = test_df[target]"
   ]
  },
  {
   "cell_type": "code",
   "execution_count": 74,
   "id": "18c02b7e-03e9-410c-aca1-781c4891a8b7",
   "metadata": {},
   "outputs": [],
   "source": [
    "def apply_best_model(X, y, scaler, model, best_params, threshold):\n",
    "    \n",
    "    model.set_params(**best_params)\n",
    "\n",
    "    X_scaled = scaler.transform(X)\n",
    "    model.fit(X_scaled, y)\n",
    "\n",
    "    y_pred_raw = model.predict_proba(X)\n",
    "    y_pred = y_pred_raw[:,1] >= threshold\n",
    "\n",
    "    results = {\n",
    "        \"Accuracy\": accuracy_score(y, y_pred),\n",
    "        \"Recall\": recall_score(y, y_pred),\n",
    "        \"Precision\": precision_score(y, y_pred),\n",
    "        \"F1\": f1_score(y, y_pred),\n",
    "        \"ROC-AUC\": roc_auc_score(y, y_pred)\n",
    "    }\n",
    "\n",
    "    conf_matrix = confusion_matrix(y, y_pred)\n",
    "\n",
    "    return results, conf_matrix"
   ]
  },
  {
   "cell_type": "code",
   "execution_count": 75,
   "id": "211225a5-a263-420b-bc63-80960d35a0f3",
   "metadata": {},
   "outputs": [
    {
     "name": "stderr",
     "output_type": "stream",
     "text": [
      "/home/human/.local/lib/python3.13/site-packages/sklearn/base.py:486: UserWarning: X has feature names, but RandomForestClassifier was fitted without feature names\n",
      "  warnings.warn(\n"
     ]
    }
   ],
   "source": [
    "results, conf_matrix = apply_best_model(X, y, scaler, random_forest_best_model, rf_best_params, best_thresh)"
   ]
  },
  {
   "cell_type": "code",
   "execution_count": 76,
   "id": "fe07ff3c-cf34-4653-b9e1-a7b18f7acd68",
   "metadata": {},
   "outputs": [
    {
     "data": {
      "text/plain": [
       "{'Accuracy': 0.9992392589211521,\n",
       " 'Recall': np.float64(0.7972972972972973),\n",
       " 'Precision': np.float64(0.7712418300653595),\n",
       " 'F1': np.float64(0.7840531561461794),\n",
       " 'ROC-AUC': np.float64(0.8984434783573069)}"
      ]
     },
     "execution_count": 76,
     "metadata": {},
     "output_type": "execute_result"
    }
   ],
   "source": [
    "results"
   ]
  },
  {
   "cell_type": "code",
   "execution_count": 77,
   "id": "31f5dca2-d606-4b88-b962-795043676254",
   "metadata": {},
   "outputs": [
    {
     "data": {
      "text/plain": [
       "array([[85260,    35],\n",
       "       [   30,   118]])"
      ]
     },
     "execution_count": 77,
     "metadata": {},
     "output_type": "execute_result"
    }
   ],
   "source": [
    "conf_matrix"
   ]
  }
 ],
 "metadata": {
  "kernelspec": {
   "display_name": "Python 3 (ipykernel)",
   "language": "python",
   "name": "python3"
  },
  "language_info": {
   "codemirror_mode": {
    "name": "ipython",
    "version": 3
   },
   "file_extension": ".py",
   "mimetype": "text/x-python",
   "name": "python",
   "nbconvert_exporter": "python",
   "pygments_lexer": "ipython3",
   "version": "3.13.1"
  }
 },
 "nbformat": 4,
 "nbformat_minor": 5
}
